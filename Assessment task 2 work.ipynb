{
 "cells": [
  {
   "attachments": {},
   "cell_type": "markdown",
   "metadata": {},
   "source": [
    " # Identifying and Defining\n"
   ]
  },
  {
   "attachments": {},
   "cell_type": "markdown",
   "metadata": {},
   "source": [
    "## <u> Choose your Data Scenario and Define your Purpose <u/>\n"
   ]
  },
  {
   "attachments": {},
   "cell_type": "markdown",
   "metadata": {},
   "source": [
    "\n",
    "Data: Dark Side Of Social Media\n",
    "\n",
    "Goal: To determine how addicted each age is\n",
    "\n",
    "Source: https://www.kaggle.com/datasets/muhammadroshaanriaz/time-wasters-on-social-media\n",
    "\n",
    "Access: The Data is Accesible to the public via the link provided\n",
    "\n",
    "Access Method: My data will be accessed via .csv\n"
   ]
  },
  {
   "attachments": {},
   "cell_type": "markdown",
   "metadata": {},
   "source": [
    "## <u>Functional And Non-Functional Requirements<u/>"
   ]
  },
  {
   "attachments": {},
   "cell_type": "markdown",
   "metadata": {},
   "source": [
    "### Functional Requirements"
   ]
  },
  {
   "attachments": {},
   "cell_type": "markdown",
   "metadata": {},
   "source": [
    "- Data Loading:\\\n",
    "        Description: The programs role is to bring in the dataset\\\n",
    "        Input: The user will input a CSV. file and create a database connection parameter\\\n",
    "        Output: The program will output a processed loaded CSV. file\n",
    "\n",
    "    "
   ]
  },
  {
   "attachments": {},
   "cell_type": "markdown",
   "metadata": {},
   "source": [
    "- Data Cleaning:\\\n",
    "        Description: The program role is to fix or remove incorrect, corrupted, duplicated, or incomplete data within a dataset\\\n",
    "        Input: The user will input a CSV. file that hasn't been clean\\\n",
    "        Output: The program will fix all impurties in the code outputing a refined csv.file\n"
   ]
  },
  {
   "attachments": {},
   "cell_type": "markdown",
   "metadata": {},
   "source": [
    "- Data Analysis:\\\n",
    "        Description: The program role is to examinine, clean and model data to extract meaningful insights.\\\n",
    "        Input: The user will insert a dataset (.CSV, API, EXCEL)\\\n",
    "        Output: The program will output insight requested from the user.\n"
   ]
  },
  {
   "attachments": {},
   "cell_type": "markdown",
   "metadata": {},
   "source": [
    "- Data Visualisation:\\\n",
    "        Description: The program role is to visualise the data in a understandable format (chart, graphs)\\\n",
    "        Input: The user will insert a dataset along with what information they want to find out\\\n",
    "        Output: the program will output a visual representation linking to the data\n"
   ]
  },
  {
   "attachments": {},
   "cell_type": "markdown",
   "metadata": {},
   "source": [
    "- Data Reporting:\\\n",
    "        Description: The program role is to present insights, findings, and analysis results from a dataset.\\\n",
    "        Input: The user will insert a refined dataset\\\n",
    "        Output: The program will give its thoughts\n"
   ]
  },
  {
   "attachments": {},
   "cell_type": "markdown",
   "metadata": {},
   "source": [
    "## <u>User Case<u/>"
   ]
  },
  {
   "attachments": {},
   "cell_type": "markdown",
   "metadata": {},
   "source": [
    "### Data Loading:"
   ]
  },
  {
   "attachments": {},
   "cell_type": "markdown",
   "metadata": {},
   "source": [
    "Actor: User\\\n",
    "Goal: To load a dataset into the system\\\n",
    "Preconditions: User has a dataset file ready\\\n",
    "Main Flow:\n",
    "1. User Place The Dataset for reading into the correct folder. \n",
    "2. System validates the file format. \n",
    "3. System loads the dataset and displays the information in a dataframe\n",
    "4. Dataset is connected to a database connection parameter\n",
    "\n",
    "Postcondtions: Dataset is loaded ready for analysis\n"
   ]
  },
  {
   "cell_type": "markdown",
   "metadata": {},
   "source": [
    "### Data Cleaning:"
   ]
  },
  {
   "cell_type": "markdown",
   "metadata": {},
   "source": [
    "Actor: Automated Process/User\\\n",
    "Goal: To fix the dataset by removing impurities\\\n",
    "Preconditions: User has a dataset file ready\\\n",
    "Main Flow:\n",
    "1. User Place the Dataset for reading\n",
    "2. System validates the file format. \n",
    "3. System clean out the incorrect, corrupted, duplicated, or incomplete data\n",
    "4. The automated proccess outputs a cleaner dataset\n",
    "\n",
    "Postcondtions: Dataset is cleaned of impurities\n"
   ]
  },
  {
   "cell_type": "markdown",
   "metadata": {},
   "source": [
    "### Data Analysis:"
   ]
  },
  {
   "cell_type": "markdown",
   "metadata": {},
   "source": [
    "Actor: Automated Process/User\\\n",
    "Goal: To examinine, clean and model data to extract meaningful insights.\\\n",
    "Preconditions: User has a dataset file ready\\\n",
    "Main Flow:\n",
    "1. User Place The Dataset for reading \n",
    "2. System validates the file format. \n",
    "3. System examinine, clean and model data to extract meaningful insights.\n",
    "4. The automated proccess outputs a cleaner dataset\n",
    "\n",
    "Postcondtions: Dataset is loaded ready for analysis, user can ask for insights\n"
   ]
  },
  {
   "cell_type": "markdown",
   "metadata": {},
   "source": [
    "### Data Visualisation"
   ]
  },
  {
   "cell_type": "markdown",
   "metadata": {},
   "source": [
    "Actor: Automated Process/User\\\n",
    "Goal: To visualise the data in a understandable format\\\n",
    "Preconditions: User has a dataset file ready\\\n",
    "Main Flow:\n",
    "1. User Place The Dataset for reading into the correct folder. \n",
    "2. System validates the file format. \n",
    "3. System create a visual representation based on x and y variables\n",
    "\n",
    "Postcondtions: Dataset create a graph, chart or plot\n"
   ]
  },
  {
   "cell_type": "markdown",
   "metadata": {},
   "source": [
    "### Data Reporting"
   ]
  },
  {
   "cell_type": "markdown",
   "metadata": {},
   "source": [
    "Actor: Automated Process/User\\\n",
    "Goal: To present insights, findings, and analysis results from a dataset\\\n",
    "Preconditions: User has a dataset file ready\\\n",
    "Main Flow:\n",
    "1. User Place The Dataset for reading into the correct folder. \n",
    "2. System validates the file format. \n",
    "3. System searches for insights, findings and analysis results from a dataset\n",
    "\n",
    "Postcondtions: Dataset represent its findings/insights\n"
   ]
  },
  {
   "attachments": {},
   "cell_type": "markdown",
   "metadata": {},
   "source": [
    "## <u>Non-Functional Requirements<u/>"
   ]
  },
  {
   "attachments": {},
   "cell_type": "markdown",
   "metadata": {},
   "source": [
    "Usability: A software system's user interface specifications are essential to its overall design, hierarchy, and aesthetics. An extensive description of the project, including a high-level summary, project requirements, installation instructions, usage overview, troubleshooting advice, and extra resources, may be found in the README article on GitHub. A well-written README adds to the project's success by assisting newcomers in understanding it."
   ]
  },
  {
   "attachments": {},
   "cell_type": "markdown",
   "metadata": {},
   "source": [
    "Reliability: User confidence and system dependability depend heavily on data integrity. It entails strong security mechanisms, frequent backups, prompt mistake detection and correction, and both physical and logical security. By addressing these issues, system dependability and user confidence are increased. Heat, dust, and electromagnetic pulses are common causes of data integrity problems, yet error messages can enhance user experience."
   ]
  },
  {
   "attachments": {},
   "cell_type": "markdown",
   "metadata": {},
   "source": [
    "# Researching and Planning"
   ]
  },
  {
   "attachments": {},
   "cell_type": "markdown",
   "metadata": {},
   "source": [
    "## <u>Research of Chosen Issue<u/>\n"
   ]
  },
  {
   "attachments": {},
   "cell_type": "markdown",
   "metadata": {},
   "source": [
    "Purpose: I chose Dark Side of Social Media to figure out how Social Media effects people of many ages"
   ]
  },
  {
   "attachments": {},
   "cell_type": "markdown",
   "metadata": {},
   "source": [
    "Missing Data: It is important to carry out this investigation because i want to figure out trends and which generation uses social media the most"
   ]
  },
  {
   "attachments": {},
   "cell_type": "markdown",
   "metadata": {},
   "source": [
    "Stakeholders: everyone, mostly direct at people psychometrician,\n"
   ]
  },
  {
   "attachments": {},
   "cell_type": "markdown",
   "metadata": {},
   "source": [
    "Use: To see which ages need attention to save our world"
   ]
  },
  {
   "attachments": {},
   "cell_type": "markdown",
   "metadata": {},
   "source": [
    "## <u>Privacy and Security<u/>\n"
   ]
  },
  {
   "attachments": {},
   "cell_type": "markdown",
   "metadata": {},
   "source": [
    "- Data Privacy of Source: The data must be download from a trusted and safe site and must ensure they keep their participants privacy safe.\n"
   ]
  },
  {
   "attachments": {},
   "cell_type": "markdown",
   "metadata": {},
   "source": [
    "- Application Data Privacy: As we are resposibilty for maintaining user privacy, we have to ensure that we adhere to the cookies/ terms and services and understand what can happen to our data. If your data was ever leaked you must ensure you had adhere to the instructions as all info may be lost"
   ]
  },
  {
   "attachments": {},
   "cell_type": "markdown",
   "metadata": {},
   "source": [
    "- Cyber Security:  Features an application should have in order to maintain cybersecurity once it is available on the web include Secure your software development life cycle Adopt the Principle of Least Privilege Secure data storage and transmission Leverage monitoring and observability Perform regular security testing and auditing Establish an incident response plan Implement security awareness training\n",
    "Expert Tip. User authentication should be safe and reliable like account lockout, Multi factor authentication, Password Hashing should be secure like strong hash algorithms and password policy enforcement and encryption should be quick and undetectable like key management and end to end encryption"
   ]
  },
  {
   "attachments": {},
   "cell_type": "markdown",
   "metadata": {},
   "source": [
    "## <u> My Data Dictionary<u/>"
   ]
  },
  {
   "attachments": {},
   "cell_type": "markdown",
   "metadata": {},
   "source": [
    "\n",
    "| Field | Datatype  | Format | Description | Example | Validation \n",
    "| --- | --- | --- | --- | --- | --- |\n",
    "| Age | object | XXX | age of the participant | 021 | --- |\n",
    "| Gender | object | XX…XX | gender of the participant | Male | --- |\n",
    "| Addiction level | float | XXX | shows the addiction level of the selected UserID | 007 | --- |\n",
    "\n",
    "\n"
   ]
  },
  {
   "attachments": {},
   "cell_type": "markdown",
   "metadata": {},
   "source": [
    "# Producing and Implementing"
   ]
  },
  {
   "attachments": {},
   "cell_type": "markdown",
   "metadata": {},
   "source": [
    "## <u>Peer Evaluations"
   ]
  },
  {
   "cell_type": "markdown",
   "metadata": {},
   "source": [
    "## Neil Evaluation\n",
    "Afer testing Stephens code i saw that everything works fine "
   ]
  },
  {
   "cell_type": "markdown",
   "metadata": {},
   "source": [
    "## Harry Evalution"
   ]
  },
  {
   "cell_type": "markdown",
   "metadata": {},
   "source": [
    "While I was testing the code, I saw that it created a good graph and the code was sophisticated. Stephen did a good job!"
   ]
  },
  {
   "cell_type": "markdown",
   "metadata": {},
   "source": [
    "## Ansh Evalution"
   ]
  },
  {
   "cell_type": "markdown",
   "metadata": {},
   "source": [
    "Stephens code is very simple and easy to use. it works very well"
   ]
  },
  {
   "cell_type": "markdown",
   "metadata": {},
   "source": [
    "## Evaluations"
   ]
  },
  {
   "cell_type": "markdown",
   "metadata": {},
   "source": [
    "I my opnion i am suprised that i was able to make my program work. But i am not satsified as i beleive i had more potential to expand my program work. My time management was really poor and i rush it all in the end.  "
   ]
  }
 ],
 "metadata": {
  "kernelspec": {
   "display_name": "Python 3",
   "language": "python",
   "name": "python3"
  },
  "language_info": {
   "codemirror_mode": {
    "name": "ipython",
    "version": 3
   },
   "file_extension": ".py",
   "mimetype": "text/x-python",
   "name": "python",
   "nbconvert_exporter": "python",
   "pygments_lexer": "ipython3",
   "version": "3.11.0"
  },
  "orig_nbformat": 4
 },
 "nbformat": 4,
 "nbformat_minor": 2
}
